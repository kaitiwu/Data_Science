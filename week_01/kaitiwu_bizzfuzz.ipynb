{
 "cells": [
  {
   "cell_type": "markdown",
   "id": "76a4868c",
   "metadata": {},
   "source": [
    "# Orientation\n",
    "<hr style=\"border:2px solid black\">"
   ]
  },
  {
   "cell_type": "markdown",
   "id": "c6ce9dbe",
   "metadata": {},
   "source": [
    "## Welcome at SPICED!\n",
    "\n",
    "Our goals at Spiced:  \n",
    "You **learn** a lot  \n",
    "You have **fun** doing so "
   ]
  },
  {
   "cell_type": "markdown",
   "id": "d00a65b5",
   "metadata": {},
   "source": [
    "<hr style=\"border:2px solid black\">"
   ]
  },
  {
   "cell_type": "markdown",
   "id": "3aed4e25",
   "metadata": {},
   "source": [
    "## 1. Curriculum Overview"
   ]
  },
  {
   "cell_type": "markdown",
   "id": "23e323e8",
   "metadata": {},
   "source": [
    "### Curriculum Metro Map \n",
    "\n",
    "<img src=\"metro.png\" width=\"800\"/>"
   ]
  },
  {
   "cell_type": "markdown",
   "id": "ae85ba91",
   "metadata": {},
   "source": [
    "### Weekly Topics\n",
    "\n",
    "|Week|Topic|\n",
    "|:--:|:--:|\n",
    "|01| Exploratory Data Analysis (EDA)|\n",
    "|02| Classification|\n",
    "|03| Regression|\n",
    "|04| Web Scraping + Natural Language Processing (NLP)|\n",
    "|05| SQL & Databases|\n",
    "|06| Data Pipeline|\n",
    "|07| Time Series Analysis|\n",
    "|08| Markov Simulation + Software Development|\n",
    "|09| Deep Learning|\n",
    "|10| Recommender System|\n",
    "|11| Software Engineering + Final Project|\n",
    "|12| Final Project|"
   ]
  },
  {
   "cell_type": "markdown",
   "id": "3e184244",
   "metadata": {},
   "source": [
    "### Career Sessions\n",
    "\n",
    "- There will be several career encounters (typically on Monday mornings)"
   ]
  },
  {
   "cell_type": "markdown",
   "id": "a3ed64cd",
   "metadata": {},
   "source": [
    "<hr style=\"border:2px solid black\">"
   ]
  },
  {
   "cell_type": "markdown",
   "id": "e1bdf715",
   "metadata": {},
   "source": [
    "## 2. Schedules"
   ]
  },
  {
   "cell_type": "markdown",
   "id": "41d054cb",
   "metadata": {},
   "source": [
    "### Typical Week\n",
    "\n",
    "- On Monday, the teachers introduce you to a new project\n",
    "- You find detailed goals for that project in the course material\n",
    "- Most lectures during the week give you something you can try in the project\n",
    "- Work on the tasks on your own or collaborate with other students\n",
    "- Approach a teacher if you get stuck\n",
    "- Upload your code on git at least once a day\n",
    "- Give a Lightning Talk in the project review on Friday afternoon"
   ]
  },
  {
   "cell_type": "markdown",
   "id": "4bd28c7c",
   "metadata": {},
   "source": [
    "### Typical Day  \n",
    "  \n",
    "- `09:00-10:00`  💻️ Setup, git push, see checklist     \n",
    "- `10:00-12:00` ☀️ Morning encounter\n",
    "- `12:00-13:30` 🍝 Lunch break\n",
    "- `13:30-16:00` ☕️ Afternoon encounter\n",
    "- `16:00-18:00` ❓ Project time, Q&A session "
   ]
  },
  {
   "cell_type": "markdown",
   "id": "e94143f6",
   "metadata": {},
   "source": [
    "### Holidays\n",
    "\n",
    "|Date|Day|Holiday|\n",
    "|:--:|:--:|:--:|\n",
    "|07 Apr|Fri|Good Friday|\n",
    "|10 Apr|Mon|Easter Monday|\n",
    "|01 May| Mon |Labour Day|\n",
    "|18 May|Thu|Ascension Day|\n",
    "|29 May|Mon|Whit Monday| "
   ]
  },
  {
   "cell_type": "markdown",
   "id": "cfb2d407",
   "metadata": {},
   "source": [
    "### Graduation  \n",
    "\n",
    "- 🎓 You present your final projects on June 23, Friday"
   ]
  },
  {
   "cell_type": "markdown",
   "id": "daba0b50",
   "metadata": {},
   "source": [
    "<hr style=\"border:2px solid black\">"
   ]
  },
  {
   "cell_type": "markdown",
   "id": "f8d09b53",
   "metadata": {},
   "source": [
    "## 3. Requirements "
   ]
  },
  {
   "cell_type": "markdown",
   "id": "f9026da9",
   "metadata": {},
   "source": [
    "1. Attend the lessons (Don't forget to click the **attendance link** via Slack!!!)\n",
    "2. Work in order to fill out the [weekly milestones checklist](https://docs.google.com/spreadsheets/d/16tqhiaRI7bABJb9GSKck7Nz2_94HyD7tV2WrmwdYVs0/edit?usp=sharing)\n",
    "3. Submit weekly projects to Github  \n",
    "4. Present the lightning talks weekly  \n",
    "5. Present your final project at the graduation  \n",
    "6. Adhere to the Code of Conduct "
   ]
  },
  {
   "cell_type": "markdown",
   "id": "3848e9a6",
   "metadata": {},
   "source": [
    "### Lightning Talks\n",
    "\n",
    "- Short presentation on something you learnt during the week\n",
    "- Does not need to be focused on your project  \n",
    "- Every talk is up to 5 minutes long"
   ]
  },
  {
   "cell_type": "markdown",
   "id": "3adb77dc",
   "metadata": {},
   "source": [
    "<img src=\"lightning_talks.png\" width=\"500\"/>"
   ]
  },
  {
   "cell_type": "markdown",
   "id": "afd79528",
   "metadata": {},
   "source": [
    "**Tips**  \n",
    "- Try not to show to much code  \n",
    "- Presentations are about knowledge sharing and communication  \n",
    "- It's not a test  "
   ]
  },
  {
   "cell_type": "markdown",
   "id": "0b5c05c8",
   "metadata": {},
   "source": [
    "<hr style=\"border:2px solid black\">"
   ]
  },
  {
   "cell_type": "markdown",
   "id": "868d28f2",
   "metadata": {},
   "source": [
    "## 4. Resources & Communication"
   ]
  },
  {
   "cell_type": "markdown",
   "id": "e3fe5e53",
   "metadata": {},
   "source": [
    "### Course Materials\n",
    "\n",
    "You can find the **course content** [here](https://spiced.space/bergamot-encoder/ds-course/index.html)\n",
    "\n",
    "Chapters in the course material chapters correspond to the encounters you have throughout the week. It is not a bad idea to skim them before your encounter, look for any reading materials or videos that are a good introduction to the topic, and then revisit them again after the encounter for any challenges or exercises you may have missed and would like to do."
   ]
  },
  {
   "cell_type": "markdown",
   "id": "b7ecc762",
   "metadata": {},
   "source": [
    "### Slack\n",
    "\n",
    "The main **communication channel** will be the `Bergamot Encoder` Slack workspace.  \n",
    "Important channels are:\n",
    "\n",
    "- `# general` — where announcements of general importance appear\n",
    "- `# questions` — where you post your questions"
   ]
  },
  {
   "cell_type": "markdown",
   "id": "fc50e1ba",
   "metadata": {},
   "source": [
    "### Github\n",
    "\n",
    "The place for **sharing code**. You will get invited to the following two repositories:\n",
    "\n",
    "- `bergamot-encoder-encounter-notes` — where teachers share the materials/code used in encounters\n",
    "- `bergamot-encoder-student-code` — where you upload the code you work on"
   ]
  },
  {
   "cell_type": "markdown",
   "id": "99a95032",
   "metadata": {},
   "source": [
    "<hr style=\"border:2px solid black\">"
   ]
  },
  {
   "cell_type": "markdown",
   "id": "4fbb1772",
   "metadata": {},
   "source": [
    "## 5. Coding Exercise"
   ]
  },
  {
   "cell_type": "markdown",
   "id": "c3c1ca70",
   "metadata": {},
   "source": [
    "**Implement the following program:**\n",
    "\n",
    "- Go through the numbers from 1 to 100:\n",
    "    - If the number is divisible by 3, write “Fizz”\n",
    "    - If the number is divisible by 5, write “Buzz”\n",
    "    - If the number is divisible by 3 and 5, write “FizzBuzz”\n",
    "    - Otherwise, print the number\n",
    "\n",
    "**Post your solution in the `# general` channel in Slack.**\n",
    "\n",
    "**Extra challenges:**\n",
    "\n",
    "- Write the code into a function\n",
    "- Add a parameter that allows for numbers other than 100"
   ]
  },
  {
   "cell_type": "code",
   "execution_count": null,
   "id": "01400ef2",
   "metadata": {},
   "outputs": [],
   "source": [
    "## writing the code that does the job \n",
    "\n",
    "for i in range (100):\n",
    "    if i % 3 == 0 and i % 5 == 0:\n",
    "        print(\"FizzBuzz\")\n",
    "    elif i % 5 == 0:\n",
    "        print(\"Buzz\")\n",
    "    elif i % 3 == 0:\n",
    "        print(\"Fizz\")\n",
    "    else:\n",
    "        print(i)\n",
    "\n",
    "\n",
    "\n"
   ]
  },
  {
   "cell_type": "code",
   "execution_count": null,
   "id": "fb44270c",
   "metadata": {},
   "outputs": [],
   "source": [
    "## packing the code into a function\n",
    "\n",
    "def numprint(i):\n",
    "    for i in range (i+1):\n",
    "        if i % 3 == 0 and i % 5 == 0:\n",
    "            print(\"FizzBuzz\")\n",
    "        elif i % 5 == 0:\n",
    "            print(\"Buzz\")\n",
    "        elif i % 3 == 0:\n",
    "            print(\"Fizz\")\n",
    "        else:\n",
    "            print(i)\n",
    "\n",
    "numprint(78)\n",
    "\n"
   ]
  },
  {
   "cell_type": "code",
   "execution_count": null,
   "id": "95a83f81",
   "metadata": {},
   "outputs": [],
   "source": [
    "## saving the lines of code, using minimum lines \n",
    "dict = {'3':'Fizz','5':'Buzz','15':'FizzBuzz'}\n",
    "def numprint(i):\n",
    "    for i in range (i+1):\n",
    "        else:\n",
    "            print(i)\n",
    "numprint(38)\n"
   ]
  },
  {
   "cell_type": "code",
   "execution_count": 18,
   "id": "8adac9d4",
   "metadata": {},
   "outputs": [
    {
     "name": "stdout",
     "output_type": "stream",
     "text": [
      "0 FizzBuzz\n",
      "1 \n",
      "2 \n",
      "3 Fizz\n",
      "4 \n",
      "5 Buzz\n",
      "6 Fizz\n",
      "7 \n",
      "8 \n",
      "9 Fizz\n",
      "10 Buzz\n",
      "10\n"
     ]
    }
   ],
   "source": [
    "## [solution] saving the lines of code, using minimum lines \n",
    "def miniline(i):\n",
    "    for i in range(i+1):\n",
    "        print(i,'Fizz'*(i%3==0)+'Buzz'*(i%5==0))\n",
    "    else:\n",
    "        print(i)\n",
    "miniline(10)"
   ]
  }
 ],
 "metadata": {
  "kernelspec": {
   "display_name": "Python 3 (ipykernel)",
   "language": "python",
   "name": "python3"
  },
  "language_info": {
   "codemirror_mode": {
    "name": "ipython",
    "version": 3
   },
   "file_extension": ".py",
   "mimetype": "text/x-python",
   "name": "python",
   "nbconvert_exporter": "python",
   "pygments_lexer": "ipython3",
   "version": "3.10.5"
  }
 },
 "nbformat": 4,
 "nbformat_minor": 5
}
